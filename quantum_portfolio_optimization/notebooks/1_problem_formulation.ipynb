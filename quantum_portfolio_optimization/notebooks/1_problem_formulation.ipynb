{
    "cells": [
     {
      "cell_type": "markdown",
      "metadata": {},
      "source": [
       "# Quantum Portfolio Optimization: Problem Formulation\n",
       "\n",
       "This notebook explores the mathematical formulation of portfolio optimization problems and how they can be mapped to quantum computing paradigms."
      ]
     },
     {
      "cell_type": "code",
      "execution_count": null,
      "metadata": {},
      "source": [
       "import numpy as np\n",
       "import pandas as pd\n",
       "import matplotlib.pyplot as plt\n",
       "import sys\n",
       "import os\n",
       "\n",
       "# Add parent directory to path\n",
       "sys.path.append(os.path.abspath('..'))\n",
       "\n",
       "from portfolio.markowitz import MarkowitzOptimizer\n",
       "from utilities.data_preparation import DataPreparation\n",
       "from utilities.visualization import PortfolioVisualization"
      ]
     },
     {
      "cell_type": "markdown",
      "metadata": {},
      "source": [
       "## 1. Introduction to Portfolio Optimization\n",
       "\n",
       "Portfolio optimization is the process of selecting the best portfolio (asset distribution) from a set of all possible portfolios given the investor's objective. The objective typically involves maximizing factors such as expected return while minimizing factors such as financial risk."
      ]
     },
     {
      "cell_type": "markdown",
      "metadata": {},
      "source": [
       "## 2. Markowitz Mean-Variance Optimization\n",
       "\n",
       "Harry Markowitz introduced the mean-variance optimization framework in 1952, which forms the foundation for modern portfolio theory. The classical formulation is given by:\n",
       "\n",
       "\\begin{align}\n",
       "\\min_w w^T \\Sigma w\n",
       "\\end{align}\n",
       "\n",
       "Subject to constraints:\n",
       "\\begin{align}\n",
       "w^T \\mu &\\geq r_{target} \\\\\n",
       "w^T 1 &= 1 \\\\\n",
       "w_i &\\geq 0, \\forall i \\in \\{1, 2, \\ldots, N\\}\n",
       "\\end{align}\n",
       "\n",
       "where:\n",
       "- $w$ is the vector of portfolio weights\n",
       "- $\\Sigma$ is the covariance matrix of asset returns\n",
       "- $\\mu$ is the vector of expected returns\n",
       "- $r_{target}$ is the target return\n",
       "- The last constraint enforces non-negative weights (no short selling)"
      ]
     },
     {
      "cell_type": "code",
      "execution_count": null,
      "metadata": {},
      "source": [
       "# Generate sample data for 5 assets\n",
       "data = DataPreparation.generate_random_data(5, 252, seed=42)\n",
       "\n",
       "# Extract covariance matrix and expected returns\n",
       "covariance_matrix = data['covariance_matrix'].values\n",
       "expected_returns = data['expected_returns'].values\n",
       "\n",
       "print(\"Expected Returns:\")\n",
       "print(expected_returns)\n",
       "print(\"\\nCovariance Matrix:\")\n",
       "print(covariance_matrix)"
      ]
     },
     {
      "cell_type": "markdown",
      "metadata": {},
      "source": [
       "## 3. Real-World Portfolio Constraints\n",
       "\n",
       "Practical portfolio optimization often involves additional constraints:\n",
       "\n",
       "### 3.1 Cardinality Constraints\n",
       "\n",
       "Limit the number of assets in the portfolio to $K < N$:\n",
       "\n",
       "\\begin{align}\n",
       "\\sum_{i=1}^{N} \\delta_i \\leq K\n",
       "\\end{align}\n",
       "\n",
       "where $\\delta_i \\in \\{0, 1\\}$ indicates whether asset $i$ is included in the portfolio.\n",
       "\n",
       "### 3.2 Minimum Investment Constraints\n",
       "\n",
       "Set minimum investment thresholds for selected assets:\n",
       "\n",
       "\\begin{align}\n",
       "w_i \\geq l_i\\delta_i, \\forall i \\in \\{1, 2, \\ldots, N\\}\n",
       "\\end{align}\n",
       "\n",
       "where $l_i$ represents the minimum allocation for asset $i$ if selected.\n",
       "\n",
       "### 3.3 Maximum Investment Constraints\n",
       "\n",
       "Set maximum investment thresholds for individual assets:\n",
       "\n",
       "\\begin{align}\n",
       "w_i \\leq u_i\\delta_i, \\forall i \\in \\{1, 2, \\ldots, N\\}\n",
       "\\end{align}\n",
       "\n",
       "where $u_i$ represents the maximum allocation for asset $i$ if selected."
      ]
     },
     {
      "cell_type": "markdown",
      "metadata": {},
      "source": [
       "## 4. Quantum Formulation Approaches\n",
       "\n",
       "Quantum computers offer potential advantages for solving portfolio optimization problems. Here are the main approaches:\n",
       "\n",
       "### 4.1 Quadratic Unconstrained Binary Optimization (QUBO)\n",
       "\n",
       "QUBO is suitable for quantum annealing devices. The formulation is:\n",
       "\n",
       "\\begin{align}\n",
       "\\min_x x^T Q x\n",
       "\\end{align}\n",
       "\n",
       "where:\n",
       "- $x \\in \\{0, 1\\}^M$ is a binary decision vector\n",
       "- $Q$ is an $M \\times M$ real-valued matrix\n",
       "- $M$ is determined by the problem encoding (typically $M > N$)\n",
       "\n",
       "#### 4.1.1 Weight Encoding\n",
       "\n",
       "For continuous weights, we employ binary expansion:\n",
       "\n",
       "\\begin{align}\n",
       "w_i = \\sum_{j=0}^{b-1} 2^j x_{i,j}\n",
       "\\end{align}\n",
       "\n",
       "where $b$ is the number of bits used to encode each weight, and $x_{i,j}$ is the $j$-th bit in the binary representation of $w_i$.\n",
       "\n",
       "#### 4.1.2 Constraint Incorporation via Penalty Terms\n",
       "\n",
       "Constraints are incorporated into the objective function using penalty terms:\n",
       "\n",
       "\\begin{align}\n",
       "f(x) = x^T Q x + A \\cdot \\text{penalty}_{\\text{return}}(x) + B \\cdot \\text{penalty}_{\\text{budget}}(x) + C \\cdot \\text{penalty}_{\\text{cardinality}}(x)\n",
       "\\end{align}\n",
       "\n",
       "where $A$, $B$, and $C$ are sufficiently large penalty coefficients.\n",
       "\n",
       "### 4.2 Variational Quantum Eigensolver (VQE)\n",
       "\n",
       "For gate-based quantum computers, we map the portfolio optimization problem to a Hamiltonian:\n",
       "\n",
       "\\begin{align}\n",
       "H = \\sum_{i,j=1}^{N} \\Sigma_{ij} Z_i Z_j - \\lambda \\sum_{i=1}^{N} \\mu_i Z_i + \\text{constraint terms}\n",
       "\\end{align}\n",
       "\n",
       "where:\n",
       "- $Z_i$ are Pauli-Z operators\n",
       "- $\\lambda$ is a Lagrange multiplier for the return constraint"
      ]
     },
     {
      "cell_type": "markdown",
      "metadata": {},
      "source": [
       "## 5. Discretization and Approximation Strategies\n",
       "\n",
       "### 5.1 Asset Pre-selection\n",
       "\n",
       "To reduce problem dimensionality, we propose a hybrid classical-quantum approach:\n",
       "\n",
       "1. Use classical hierarchical clustering to group similar assets\n",
       "2. Select representative assets from each cluster\n",
       "3. Apply quantum optimization to the reduced asset universe\n",
       "\n",
       "### 5.2 Coarse-Grained Weight Discretization\n",
       "\n",
       "Instead of continuous weights, we consider discrete allocation levels:\n",
       "\n",
       "\\begin{align}\n",
       "w_i \\in \\left\\{0, \\frac{1}{L}, \\frac{2}{L}, \\ldots, \\frac{L-1}{L}, 1\\right\\}\n",
       "\\end{align}\n",
       "\n",
       "where $L$ is the number of discretization levels."
      ]
     },
     {
      "cell_type": "markdown",
      "metadata": {},
      "source": [
       "## 6. Conclusion\n",
       "\n",
       "This notebook has presented the mathematical formulation for portfolio optimization and how it can be mapped to quantum computing paradigms. In the following notebooks, we'll implement these approaches and compare their performance."
      ]
     }
    ],
    "metadata": {
     "kernelspec": {
      "display_name": "Python 3",
      "language": "python",
      "name": "python3"
     },
     "language_info": {
      "codemirror_mode": {
       "name": "ipython",
       "version": 3
      },
      "file_extension": ".py",
      "mimetype": "text/x-python",
      "name": "python",
      "nbconvert_exporter": "python",
      "pygments_lexer": "ipython3",
      "version": "3.8.10"
     }
    },
    "nbformat": 4,
    "nbformat_minor": 4
   }