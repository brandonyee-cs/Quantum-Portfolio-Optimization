{
    "cells": [
     {
      "cell_type": "markdown",
      "metadata": {},
      "source": [
       "# Quantum Portfolio Optimization: QUBO Formulation\n",
       "\n",
       "This notebook demonstrates how to formulate portfolio optimization problems as Quadratic Unconstrained Binary Optimization (QUBO) problems for quantum annealing devices."
      ]
     },
     {
      "cell_type": "code",
      "execution_count": null,
      "metadata": {},
      "source": [
       "import numpy as np\n",
       "import pandas as pd\n",
       "import matplotlib.pyplot as plt\n",
       "import sys\n",
       "import os\n",
       "import time\n",
       "\n",
       "# Add parent directory to path\n",
       "sys.path.append(os.path.abspath('..'))\n",
       "\n",
       "from algorithms.qubo import QuboFormulation\n",
       "from benchmarks.test_cases import TestCases\n",
       "from utilities.matrix_conversion import MatrixConversion\n",
       "from utilities.visualization import PortfolioVisualization"
      ]
     },
     {
      "cell_type": "markdown",
      "metadata": {},
      "source": [
       "## 1. Introduction to QUBO\n",
       "\n",
       "Quadratic Unconstrained Binary Optimization (QUBO) is a mathematical form well-suited for quantum annealing devices like D-Wave. The general form is:\n",
       "\n",
       "\\begin{align}\n",
       "\\min_x x^T Q x\n",
       "\\end{align}\n",
       "\n",
       "where:\n",
       "- $x \\in \\{0, 1\\}^M$ is a binary decision vector\n",
       "- $Q$ is an $M \\times M$ real-valued matrix"
      ]
     },
     {
      "cell_type": "markdown",
      "metadata": {},
      "source": [
       "## 2. Loading Test Data"
      ]
     },
     {
      "cell_type": "code",
      "execution_count": null,
      "metadata": {},
      "source": [
       "# Load balanced portfolio test case\n",
       "portfolio = TestCases.balanced_portfolio()\n",
       "covariance_matrix = portfolio['covariance_matrix'].values\n",
       "expected_returns = portfolio['expected_returns'].values\n",
       "asset_names = portfolio['asset_names']\n",
       "\n",
       "print(f\"Test case: {portfolio['name']}\")\n",
       "print(f\"Assets: {asset_names}\")\n",
       "print(f\"Expected returns: {expected_returns}\")\n",
       "print(\"\\nCovariance matrix:\")\n",
       "print(covariance_matrix)"
      ]
     },
     {
      "cell_type": "markdown",
      "metadata": {},
      "source": [
       "## 3. Binary Encoding of Portfolio Weights\n",
       "\n",
       "To represent continuous portfolio weights in binary form, we use binary expansion:\n",
       "\n",
       "\\begin{align}\n",
       "w_i = \\sum_{j=0}^{b-1} 2^j x_{i,j}\n",
       "\\end{align}\n",
       "\n",
       "where $b$ is the number of bits used to encode each weight, and $x_{i,j}$ is the $j$-th bit in the binary representation of $w_i$."
      ]
     },
     {
      "cell_type": "code",
      "execution_count": null,
      "metadata": {},
      "source": [
       "# Set target return\n",
       "target_return = np.mean(expected_returns)\n",
       "print(f\"Target return: {target_return:.4f}\")\n",
       "\n",
       "# Create QUBO formulation\n",
       "qubo = QuboFormulation(covariance_matrix, expected_returns, target_return)\n",
       "\n",
       "# Choose number of bits for encoding\n",
       "n_bits = 3\n",
       "print(f\"Using {n_bits} bits for encoding each weight\")\n",
       "\n",
       "# Create encoding matrix\n",
       "encoding_matrix = qubo.encode_weights(n_bits)\n",
       "print(f\"\\nEncoding matrix shape: {encoding_matrix.shape}\")\n",
       "print(\"First few rows:\")\n",
       "print(encoding_matrix[:2, :6])"
      ]
     },
     {
      "cell_type": "markdown",
      "metadata": {},
      "source": [
       "## 4. Building the QUBO Matrix\n",
       "\n",
       "The QUBO matrix $Q$ encodes the objective function and constraints:\n",
       "\n",
       "\\begin{align}\n",
       "f(x) = x^T Q x = \\text{risk} + A \\cdot \\text{penalty}_{\\text{return}} + B \\cdot \\text{penalty}_{\\text{budget}} + C \\cdot \\text{penalty}_{\\text{cardinality}}\n",
       "\\end{align}\n",
       "\n",
       "where $A$, $B$, and $C$ are penalty coefficients."
      ]
     },
     {
      "cell_type": "code",
      "execution_count": null,
      "metadata": {},
      "source": [
       "# Set penalty coefficients\n",
       "penalty_coefficients = {\n",
       "    'return': 10.0,  # Penalty for return constraint\n",
       "    'budget': 10.0,  # Penalty for budget constraint\n",
       "    'cardinality': 5.0  # Penalty for cardinality constraint\n",
       "}\n",
       "\n",
       "# Build QUBO matrix without cardinality constraint\n",
       "qubo_matrix = qubo.build_qubo_matrix(encoding_matrix)\n",
       "print(f\"QUBO matrix shape: {qubo_matrix.shape}\")\n",
       "\n",
       "# Visualize QUBO matrix\n",
       "plt.figure(figsize=(10, 8))\n",
       "plt.imshow(qubo_matrix, cmap='viridis')\n",
       "plt.colorbar(label='Coefficient Value')\n",
       "plt.title('QUBO Matrix Visualization')\n",
       "plt.xlabel('Binary Variable Index')\n",
       "plt.ylabel('Binary Variable Index')\n",
       "plt.tight_layout()\n",
       "plt.show()"
      ]
     },
     {
      "cell_type": "markdown",
      "metadata": {},
      "source": [
       "## 5. Incorporating Cardinality Constraints\n",
       "\n",
       "Cardinality constraints limit the number of assets in the portfolio to $K < N$:\n",
       "\n",
       "\\begin{align}\n",
       "\\sum_{i=1}^{N} \\delta_i \\leq K\n",
       "\\end{align}\n",
       "\n",
       "where $\\delta_i \\in \\{0, 1\\}$ indicates whether asset $i$ is included in the portfolio."
      ]
     },
     {
      "cell_type": "code",
      "execution_count": null,
      "metadata": {},
      "source": [
       "# Set cardinality constraint\n",
       "max_assets = 3\n",
       "print(f\"Maximum number of assets: {max_assets}\")\n",
       "\n",
       "# Build QUBO matrix with cardinality constraint\n",
       "qubo_matrix_card = qubo.build_qubo_matrix(encoding_matrix, cardinality_constraint=max_assets)\n",
       "\n",
       "# Visualize difference between QUBO matrices\n",
       "diff_matrix = qubo_matrix_card - qubo_matrix\n",
       "print(f\"Difference matrix shape: {diff_matrix.shape}\")\n",
       "print(f\"Max absolute difference: {np.max(np.abs(diff_matrix)):.4f}\")\n",
       "\n",
       "plt.figure(figsize=(10, 8))\n",
       "plt.imshow(diff_matrix, cmap='coolwarm')\n",
       "plt.colorbar(label='Coefficient Difference')\n",
       "plt.title('Cardinality Constraint Contribution to QUBO Matrix')\n",
       "plt.xlabel('Binary Variable Index')\n",
       "plt.ylabel('Binary Variable Index')\n",
       "plt.tight_layout()\n",
       "plt.show()"
      ]
     },
     {
      "cell_type": "markdown",
      "metadata": {},
      "source": [
       "## 6. From QUBO to Ising Model\n",
       "\n",
       "For some quantum devices, it's useful to convert the QUBO to an Ising model:\n",
       "\n",
       "\\begin{align}\n",
       "E(s) = \\sum_{i,j} J_{ij} s_i s_j + \\sum_i h_i s_i + c\n",
       "\\end{align}\n",
       "\n",
       "where $s_i \\in \\{-1, 1\\}$ are spin variables, $J_{ij}$ are coupling strengths, $h_i$ are local fields, and $c$ is a constant."
      ]
     },
     {
      "cell_type": "code",
      "execution_count": null,
      "metadata": {},
      "source": [
       "# Convert QUBO to Ising\n",
       "J, h, offset = MatrixConversion.convert_to_ising(qubo_matrix)\n",
       "\n",
       "print(f\"J matrix shape: {J.shape}\")\n",
       "print(f\"h vector shape: {h.shape}\")\n",
       "print(f\"Offset: {offset:.4f}\")\n",
       "\n",
       "# Visualize J matrix\n",
       "plt.figure(figsize=(10, 8))\n",
       "plt.imshow(J, cmap='coolwarm')\n",
       "plt.colorbar(label='Coupling Strength')\n",
       "plt.title('Ising Coupling Matrix (J)')\n",
       "plt.xlabel('Spin Index')\n",
       "plt.ylabel('Spin Index')\n",
       "plt.tight_layout()\n",
       "plt.show()\n",
       "\n",
       "# Visualize h vector\n",
       "plt.figure(figsize=(12, 4))\n",
       "plt.bar(range(len(h)), h)\n",
       "plt.title('Ising Local Fields (h)')\n",
       "plt.xlabel('Spin Index')\n",
       "plt.ylabel('Field Strength')\n",
       "plt.tight_layout()\n",
       "plt.show()"
      ]
     },
     {
      "cell_type": "markdown",
      "metadata": {},
      "source": [
       "## 7. Solution Extraction and Interpretation\n",
       "\n",
       "After solving the QUBO problem on a quantum device, we need to extract and interpret the portfolio weights."
      ]
     },
     {
      "cell_type": "code",
      "execution_count": null,
      "metadata": {},
      "source": [
       "# Simulate binary solution (this would come from a quantum device in practice)\n",
       "# Generate random binary solution for demonstration\n",
       "np.random.seed(42)\n",
       "binary_solution = np.random.randint(0, 2, size=qubo.n_variables)\n",
       "print(f\"Binary solution: {binary_solution}\")\n",
       "\n",
       "# Extract portfolio weights\n",
       "weights = qubo.extract_portfolio_weights(binary_solution)\n",
       "print(f\"Extracted weights (before normalization): {weights}\")\n",
       "\n",
       "# Normalize weights to sum to 1\n",
       "normalized_weights = weights / np.sum(weights) if np.sum(weights) > 0 else weights\n",
       "print(f\"Normalized weights: {normalized_weights}\")\n",
       "\n",
       "# Calculate portfolio metrics\n",
       "result = qubo.evaluate_portfolio(normalized_weights)\n",
       "print(f\"\\nPortfolio return: {result['expected_return']:.4f}\")\n",
       "print(f\"Portfolio risk: {result['risk']:.4f}\")\n",
       "print(f\"Sharpe ratio: {result['sharpe_ratio']:.4f}\")\n",
       "print(f\"Number of assets: {result['num_assets']}\")\n",
       "\n",
       "# Plot portfolio weights\n",
       "plt.figure(figsize=(10, 6))\n",
       "plt.bar(asset_names, normalized_weights)\n",
       "plt.title('Portfolio Weights from QUBO Solution')\n",
       "plt.xlabel('Assets')\n",
       "plt.ylabel('Weight')\n",
       "plt.xticks(rotation=45)\n",
       "plt.tight_layout()\n",
       "plt.show()"
      ]
     },
     {
      "cell_type": "markdown",
      "metadata": {},
      "source": [
       "## 8. Effect of Precision (Number of Bits)\n",
       "\n",
       "Let's explore how the number of bits for encoding affects the solution space and precision."
      ]
     },
     {
      "cell_type": "code",
      "execution_count": null,
      "metadata": {},
      "source": [
       "# Test different bit precisions\n",
       "bit_precisions = [1, 2, 3, 4, 5]\n",
       "qubo_sizes = []\n",
       "weight_precisions = []\n",
       "\n",
       "for n_bits in bit_precisions:\n",
       "    # Create encoding matrix\n",
       "    encoding_matrix = qubo.encode_weights(n_bits)\n",
       "    \n",
       "    # Build QUBO matrix\n",
       "    qubo_matrix = qubo.build_qubo_matrix(encoding_matrix)\n",
       "    \n",
       "    # Record size\n",
       "    qubo_sizes.append(qubo_matrix.shape[0])\n",
       "    \n",
       "    # Calculate weight precision\n",
       "    min_weight = 1.0 / (2**n_bits)\n",
       "    weight_precisions.append(min_weight)\n",
       "\n",
       "# Plot results\n",
       "fig, (ax1, ax2) = plt.subplots(1, 2, figsize=(12, 5))\n",
       "\n",
       "ax1.plot(bit_precisions, qubo_sizes, 'o-')\n",
       "ax1.set_title('QUBO Size vs. Bit Precision')\n",
       "ax1.set_xlabel('Number of Bits')\n",
       "ax1.set_ylabel('Number of Binary Variables')\n",
       "ax1.grid(True, alpha=0.3)\n",
       "\n",
       "ax2.plot(bit_precisions, weight_precisions, 'o-')\n",
       "ax2.set_title('Weight Precision vs. Bit Precision')\n",
       "ax2.set_xlabel('Number of Bits')\n",
       "ax2.set_ylabel('Minimum Weight Resolution')\n",
       "ax2.set_yscale('log')\n",
       "ax2.grid(True, alpha=0.3)\n",
       "\n",
       "plt.tight_layout()\n",
       "plt.show()\n",
       "\n",
       "print(\"Bit Precision vs. QUBO Size and Weight Resolution:\")\n",
       "for i, n_bits in enumerate(bit_precisions):\n",
       "    print(f\"{n_bits} bits: {qubo_sizes[i]} binary variables, minimum weight = {weight_precisions[i]:.6f}\")"
      ]
     },
     {
      "cell_type": "markdown",
      "metadata": {},
      "source": [
       "## 9. Converting to Quantum Circuits\n",
       "\n",
       "For gate-based quantum computers, the QUBO or Ising formulation needs to be mapped to a quantum circuit. Here, we'll demonstrate a simplified conversion to a polynomial form suitable for quantum circuit implementation."
      ]
     },
     {
      "cell_type": "code",
      "execution_count": null,
      "metadata": {},
      "source": [
       "# Convert to binary polynomial\n",
       "binary_poly = MatrixConversion.convert_to_binary_polynomial(\n",
       "    covariance_matrix,\n",
       "    expected_returns,\n",
       "    target_return,\n",
       "    n_bits=3\n",
       ")\n",
       "\n",
       "print(f\"Total number of binary variables: {binary_poly['n_variables']}\")\n",
       "print(f\"Number of linear terms: {len(binary_poly['linear_terms'])}\")\n",
       "print(f\"Number of quadratic terms: {len(binary_poly['quadratic_terms'])}\")\n",
       "print(f\"Constant term: {binary_poly['constant']:.4f}\")\n",
       "\n",
       "# Print a few linear terms\n",
       "print(\"\\nSample linear terms:\")\n",
       "for i, (var, coef) in enumerate(list(binary_poly['linear_terms'].items())[:5]):\n",
       "    print(f\"x[{var}]: {coef:.4f}\")\n",
       "\n",
       "# Print a few quadratic terms\n",
       "print(\"\\nSample quadratic terms:\")\n",
       "for i, (vars_str, coef) in enumerate(list(binary_poly['quadratic_terms'].items())[:5]):\n",
       "    print(f\"x[{vars_str}]: {coef:.4f}\")"
      ]
     },
     {
      "cell_type": "markdown",
      "metadata": {},
      "source": [
       "## 10. Conclusion\n",
       "\n",
       "In this notebook, we've demonstrated how to formulate portfolio optimization problems as Quadratic Unconstrained Binary Optimization (QUBO) problems, which can be solved on quantum annealing devices. We've covered:\n",
       "\n",
       "1. Binary encoding of portfolio weights\n",
       "2. Building the QUBO matrix\n",
       "3. Incorporating constraints via penalty terms\n",
       "4. Converting to Ising model\n",
       "5. Extracting and interpreting solutions\n",
       "6. Effect of bit precision on solution space\n",
       "7. Converting to binary polynomial form for gate-based quantum computers\n",
       "\n",
       "In the next notebook, we'll implement the Variational Quantum Eigensolver (VQE) approach for gate-based quantum computers."
      ]
     }
    ],
    "metadata": {
     "kernelspec": {
      "display_name": "Python 3",
      "language": "python",
      "name": "python3"
     },
     "language_info": {
      "codemirror_mode": {
       "name": "ipython",
       "version": 3
      },
      "file_extension": ".py",
      "mimetype": "text/x-python",
      "name": "python",
      "nbconvert_exporter": "python",
      "pygments_lexer": "ipython3",
      "version": "3.8.10"
     }
    },
    "nbformat": 4,
    "nbformat_minor": 4
   }